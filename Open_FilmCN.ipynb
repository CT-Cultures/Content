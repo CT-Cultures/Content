{
  "nbformat": 4,
  "nbformat_minor": 0,
  "metadata": {
    "colab": {
      "name": "Open_FilmCN.ipynb",
      "provenance": [],
      "collapsed_sections": [],
      "include_colab_link": true
    },
    "kernelspec": {
      "name": "python3",
      "display_name": "Python 3"
    },
    "language_info": {
      "name": "python"
    }
  },
  "cells": [
    {
      "cell_type": "markdown",
      "metadata": {
        "id": "view-in-github",
        "colab_type": "text"
      },
      "source": [
        "<a href=\"https://colab.research.google.com/github/CT-Cultures/Content/blob/master/Open_FilmCN.ipynb\" target=\"_parent\"><img src=\"https://colab.research.google.com/assets/colab-badge.svg\" alt=\"Open In Colab\"/></a>"
      ]
    },
    {
      "cell_type": "code",
      "metadata": {
        "id": "aiU1DVLPXkQh",
        "colab": {
          "base_uri": "https://localhost:8080/"
        },
        "outputId": "14bcbd3a-c515-43f7-8818-fd8f60ce0040"
      },
      "source": [
        "####[1]####\n",
        "# INTALL PROJECT FILES AND REQUIREMENTS\n",
        "# Cells to run before this one: None\n",
        "\n",
        "# Mount Google Drive\n",
        "from google.colab import drive\n",
        "drive.mount('/content/drive')\n",
        "\n",
        "# Navigate to project directory\n",
        "import os\n",
        "if not os.path.exists('/content/drive/MyDrive/Github'):\n",
        "  !mkdir Github\n",
        "path_github   = '/content/drive/MyDrive/Github'\n",
        "os.chdir(path_github)\n",
        "\n",
        "# git clone or pull\n",
        "if not os.path.exists(path_github + '/Content'):\n",
        " !git clone https://github.com/CT-Cultures/Content.git\n",
        " path_wd = path_github + '/' + 'Content'\n",
        " os.chdir(path_wd)\n",
        "else:\n",
        " path_wd = path_github + '/' + 'Content'\n",
        " os.chdir(path_wd)\n",
        " !git config --global user.email \"veexu@ctcultures.com\"\n",
        " !git config --global user.name \"Herais\"\n",
        " !git stash push --include-untracked\n",
        " #!git stash drop\n",
        " !git pull\n",
        "!pwd"
      ],
      "execution_count": 1,
      "outputs": [
        {
          "output_type": "stream",
          "text": [
            "Mounted at /content/drive\n",
            "Saved working directory and index state WIP on master: 4979198 Update Record_Registration.py\n",
            "Already up to date.\n",
            "/content/drive/My Drive/Github/Content\n"
          ],
          "name": "stdout"
        }
      ]
    },
    {
      "cell_type": "code",
      "metadata": {
        "colab": {
          "base_uri": "https://localhost:8080/"
        },
        "id": "XxBvt53fga1f",
        "outputId": "5ea2f7cf-2220-4e8c-de8e-a2c5aec9dfec"
      },
      "source": [
        "os.chdir('sources/ChinaFilm')\n",
        "!pip install -r requirements.txt\n",
        "!apt-get update # to update ubuntu to correctly run apt install\n",
        "!apt install chromium-chromedriver\n",
        "!cp /usr/lib/chromium-browser/chromedriver /usr/bin\n",
        "import sys\n",
        "sys.path.insert(0,'/usr/lib/chromium-browser/chromedriver')\n",
        "\n",
        "os.chdir('sources/ChinaFilm')"
      ],
      "execution_count": 2,
      "outputs": [
        {
          "output_type": "stream",
          "text": [
            "Collecting selenium\n",
            "\u001b[?25l  Downloading https://files.pythonhosted.org/packages/80/d6/4294f0b4bce4de0abf13e17190289f9d0613b0a44e5dd6a7f5ca98459853/selenium-3.141.0-py2.py3-none-any.whl (904kB)\n",
            "\r\u001b[K     |▍                               | 10kB 15.8MB/s eta 0:00:01\r\u001b[K     |▊                               | 20kB 23.2MB/s eta 0:00:01\r\u001b[K     |█                               | 30kB 26.1MB/s eta 0:00:01\r\u001b[K     |█▌                              | 40kB 27.6MB/s eta 0:00:01\r\u001b[K     |█▉                              | 51kB 30.0MB/s eta 0:00:01\r\u001b[K     |██▏                             | 61kB 23.1MB/s eta 0:00:01\r\u001b[K     |██▌                             | 71kB 24.8MB/s eta 0:00:01\r\u001b[K     |███                             | 81kB 24.7MB/s eta 0:00:01\r\u001b[K     |███▎                            | 92kB 26.2MB/s eta 0:00:01\r\u001b[K     |███▋                            | 102kB 25.5MB/s eta 0:00:01\r\u001b[K     |████                            | 112kB 25.5MB/s eta 0:00:01\r\u001b[K     |████▍                           | 122kB 25.5MB/s eta 0:00:01\r\u001b[K     |████▊                           | 133kB 25.5MB/s eta 0:00:01\r\u001b[K     |█████                           | 143kB 25.5MB/s eta 0:00:01\r\u001b[K     |█████▍                          | 153kB 25.5MB/s eta 0:00:01\r\u001b[K     |█████▉                          | 163kB 25.5MB/s eta 0:00:01\r\u001b[K     |██████▏                         | 174kB 25.5MB/s eta 0:00:01\r\u001b[K     |██████▌                         | 184kB 25.5MB/s eta 0:00:01\r\u001b[K     |██████▉                         | 194kB 25.5MB/s eta 0:00:01\r\u001b[K     |███████▎                        | 204kB 25.5MB/s eta 0:00:01\r\u001b[K     |███████▋                        | 215kB 25.5MB/s eta 0:00:01\r\u001b[K     |████████                        | 225kB 25.5MB/s eta 0:00:01\r\u001b[K     |████████▎                       | 235kB 25.5MB/s eta 0:00:01\r\u001b[K     |████████▊                       | 245kB 25.5MB/s eta 0:00:01\r\u001b[K     |█████████                       | 256kB 25.5MB/s eta 0:00:01\r\u001b[K     |█████████▍                      | 266kB 25.5MB/s eta 0:00:01\r\u001b[K     |█████████▉                      | 276kB 25.5MB/s eta 0:00:01\r\u001b[K     |██████████▏                     | 286kB 25.5MB/s eta 0:00:01\r\u001b[K     |██████████▌                     | 296kB 25.5MB/s eta 0:00:01\r\u001b[K     |██████████▉                     | 307kB 25.5MB/s eta 0:00:01\r\u001b[K     |███████████▎                    | 317kB 25.5MB/s eta 0:00:01\r\u001b[K     |███████████▋                    | 327kB 25.5MB/s eta 0:00:01\r\u001b[K     |████████████                    | 337kB 25.5MB/s eta 0:00:01\r\u001b[K     |████████████▎                   | 348kB 25.5MB/s eta 0:00:01\r\u001b[K     |████████████▊                   | 358kB 25.5MB/s eta 0:00:01\r\u001b[K     |█████████████                   | 368kB 25.5MB/s eta 0:00:01\r\u001b[K     |█████████████▍                  | 378kB 25.5MB/s eta 0:00:01\r\u001b[K     |█████████████▊                  | 389kB 25.5MB/s eta 0:00:01\r\u001b[K     |██████████████▏                 | 399kB 25.5MB/s eta 0:00:01\r\u001b[K     |██████████████▌                 | 409kB 25.5MB/s eta 0:00:01\r\u001b[K     |██████████████▉                 | 419kB 25.5MB/s eta 0:00:01\r\u001b[K     |███████████████▏                | 430kB 25.5MB/s eta 0:00:01\r\u001b[K     |███████████████▋                | 440kB 25.5MB/s eta 0:00:01\r\u001b[K     |████████████████                | 450kB 25.5MB/s eta 0:00:01\r\u001b[K     |████████████████▎               | 460kB 25.5MB/s eta 0:00:01\r\u001b[K     |████████████████▋               | 471kB 25.5MB/s eta 0:00:01\r\u001b[K     |█████████████████               | 481kB 25.5MB/s eta 0:00:01\r\u001b[K     |█████████████████▍              | 491kB 25.5MB/s eta 0:00:01\r\u001b[K     |█████████████████▊              | 501kB 25.5MB/s eta 0:00:01\r\u001b[K     |██████████████████▏             | 512kB 25.5MB/s eta 0:00:01\r\u001b[K     |██████████████████▌             | 522kB 25.5MB/s eta 0:00:01\r\u001b[K     |██████████████████▉             | 532kB 25.5MB/s eta 0:00:01\r\u001b[K     |███████████████████▏            | 542kB 25.5MB/s eta 0:00:01\r\u001b[K     |███████████████████▋            | 552kB 25.5MB/s eta 0:00:01\r\u001b[K     |████████████████████            | 563kB 25.5MB/s eta 0:00:01\r\u001b[K     |████████████████████▎           | 573kB 25.5MB/s eta 0:00:01\r\u001b[K     |████████████████████▋           | 583kB 25.5MB/s eta 0:00:01\r\u001b[K     |█████████████████████           | 593kB 25.5MB/s eta 0:00:01\r\u001b[K     |█████████████████████▍          | 604kB 25.5MB/s eta 0:00:01\r\u001b[K     |█████████████████████▊          | 614kB 25.5MB/s eta 0:00:01\r\u001b[K     |██████████████████████          | 624kB 25.5MB/s eta 0:00:01\r\u001b[K     |██████████████████████▌         | 634kB 25.5MB/s eta 0:00:01\r\u001b[K     |██████████████████████▉         | 645kB 25.5MB/s eta 0:00:01\r\u001b[K     |███████████████████████▏        | 655kB 25.5MB/s eta 0:00:01\r\u001b[K     |███████████████████████▌        | 665kB 25.5MB/s eta 0:00:01\r\u001b[K     |████████████████████████        | 675kB 25.5MB/s eta 0:00:01\r\u001b[K     |████████████████████████▎       | 686kB 25.5MB/s eta 0:00:01\r\u001b[K     |████████████████████████▋       | 696kB 25.5MB/s eta 0:00:01\r\u001b[K     |█████████████████████████       | 706kB 25.5MB/s eta 0:00:01\r\u001b[K     |█████████████████████████▍      | 716kB 25.5MB/s eta 0:00:01\r\u001b[K     |█████████████████████████▊      | 727kB 25.5MB/s eta 0:00:01\r\u001b[K     |██████████████████████████      | 737kB 25.5MB/s eta 0:00:01\r\u001b[K     |██████████████████████████▍     | 747kB 25.5MB/s eta 0:00:01\r\u001b[K     |██████████████████████████▉     | 757kB 25.5MB/s eta 0:00:01\r\u001b[K     |███████████████████████████▏    | 768kB 25.5MB/s eta 0:00:01\r\u001b[K     |███████████████████████████▌    | 778kB 25.5MB/s eta 0:00:01\r\u001b[K     |████████████████████████████    | 788kB 25.5MB/s eta 0:00:01\r\u001b[K     |████████████████████████████▎   | 798kB 25.5MB/s eta 0:00:01\r\u001b[K     |████████████████████████████▋   | 808kB 25.5MB/s eta 0:00:01\r\u001b[K     |█████████████████████████████   | 819kB 25.5MB/s eta 0:00:01\r\u001b[K     |█████████████████████████████▍  | 829kB 25.5MB/s eta 0:00:01\r\u001b[K     |█████████████████████████████▊  | 839kB 25.5MB/s eta 0:00:01\r\u001b[K     |██████████████████████████████  | 849kB 25.5MB/s eta 0:00:01\r\u001b[K     |██████████████████████████████▍ | 860kB 25.5MB/s eta 0:00:01\r\u001b[K     |██████████████████████████████▉ | 870kB 25.5MB/s eta 0:00:01\r\u001b[K     |███████████████████████████████▏| 880kB 25.5MB/s eta 0:00:01\r\u001b[K     |███████████████████████████████▌| 890kB 25.5MB/s eta 0:00:01\r\u001b[K     |███████████████████████████████▉| 901kB 25.5MB/s eta 0:00:01\r\u001b[K     |████████████████████████████████| 911kB 25.5MB/s \n",
            "\u001b[?25hRequirement already satisfied: urllib3 in /usr/local/lib/python3.7/dist-packages (from selenium->-r requirements.txt (line 1)) (1.24.3)\n",
            "Installing collected packages: selenium\n",
            "Successfully installed selenium-3.141.0\n"
          ],
          "name": "stdout"
        }
      ]
    },
    {
      "cell_type": "code",
      "metadata": {
        "id": "17kIyCl_2fxX"
      },
      "source": [
        "!#Load Libraries\n",
        "import gc\n",
        "import pandas as pd\n",
        "from sources.ChinaFilm.Record_Registration import Registration\n",
        "from selenium import webdriver\n",
        "chrome_options = webdriver.ChromeOptions()\n",
        "chrome_options.add_argument('--headless')\n",
        "chrome_options.add_argument('--no-sandbox')\n",
        "chrome_options.add_argument('--disable-dev-shm-usage')\n",
        "\n",
        "# Initialize Registration Class\n",
        "driver = webdriver.Chrome('chromedriver',chrome_options=chrome_options)\n",
        "dyreg = Registration(driver)"
      ],
      "execution_count": null,
      "outputs": []
    },
    {
      "cell_type": "code",
      "metadata": {
        "id": "PZqcUsZBY9yU"
      },
      "source": [
        "# Load Data\n",
        "links_of_registrations = pd.read_csv('sources/ChinaFilm/records/links_of_registrations.csv', encoding='utf-8-sig')"
      ],
      "execution_count": 9,
      "outputs": []
    },
    {
      "cell_type": "code",
      "metadata": {
        "id": "GYiQhOow5tjs"
      },
      "source": [
        ""
      ],
      "execution_count": null,
      "outputs": []
    },
    {
      "cell_type": "code",
      "metadata": {
        "id": "QCMlqY6Q3NjX"
      },
      "source": [
        "# Wind Down\n",
        "dyreg.driver.close()\n",
        "gc.collect()"
      ],
      "execution_count": 15,
      "outputs": []
    },
    {
      "cell_type": "code",
      "metadata": {
        "colab": {
          "base_uri": "https://localhost:8080/"
        },
        "id": "TF-5sAwEontZ",
        "outputId": "434be815-4e80-47bd-a114-8465409a6e75"
      },
      "source": [
        "# Commit and Push to Github\n",
        "os.chdir(path_wd)\n",
        "!git config --global user.email \"veexu@ctcultures.com\"\n",
        "!git config --global user.name \"Herais\"\n",
        "!git add --all\n",
        "!git commit\n",
        "!git push"
      ],
      "execution_count": null,
      "outputs": [
        {
          "output_type": "stream",
          "text": [
            "hint: Waiting for your editor to close the file... error: unable to start editor 'editor'\n",
            "Please supply the message using either -m or -F option.\n",
            "fatal: could not read Username for 'https://github.com': No such device or address\n"
          ],
          "name": "stdout"
        }
      ]
    }
  ]
}