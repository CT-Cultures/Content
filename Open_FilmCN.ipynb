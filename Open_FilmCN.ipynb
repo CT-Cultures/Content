{
  "nbformat": 4,
  "nbformat_minor": 0,
  "metadata": {
    "colab": {
      "name": "Open_FilmCN.ipynb",
      "provenance": [],
      "collapsed_sections": [],
      "include_colab_link": true
    },
    "kernelspec": {
      "name": "python3",
      "display_name": "Python 3"
    },
    "language_info": {
      "name": "python"
    }
  },
  "cells": [
    {
      "cell_type": "markdown",
      "metadata": {
        "id": "view-in-github",
        "colab_type": "text"
      },
      "source": [
        "<a href=\"https://colab.research.google.com/github/CT-Cultures/Content/blob/master/Open_FilmCN.ipynb\" target=\"_parent\"><img src=\"https://colab.research.google.com/assets/colab-badge.svg\" alt=\"Open In Colab\"/></a>"
      ]
    },
    {
      "cell_type": "code",
      "metadata": {
        "id": "aiU1DVLPXkQh",
        "colab": {
          "base_uri": "https://localhost:8080/"
        },
        "outputId": "cc975504-7904-4801-f23c-bd89419c242f"
      },
      "source": [
        "####[1]####\n",
        "# INTALL PROJECT FILES AND REQUIREMENTS\n",
        "# Cells to run before this one: None\n",
        "\n",
        "# Mount Google Drive\n",
        "from google.colab import drive\n",
        "drive.mount('/content/drive')\n",
        "\n",
        "# Navigate to project directory\n",
        "import os\n",
        "if not os.path.exists('/content/drive/MyDrive/Github'):\n",
        "  !mkdir Github\n",
        "path_github   = '/content/drive/MyDrive/Github'\n",
        "os.chdir(path_github)\n",
        "\n",
        "# git clone or pull\n",
        "if not os.path.exists(path_github + '/Content'):\n",
        " !git clone https://github.com/CT-Cultures/Content.git\n",
        " path_wd = path_github + '/' + 'Content'\n",
        " os.chdir(path_wd)\n",
        "else:\n",
        " path_wd = path_github + '/' + 'Content'\n",
        " os.chdir(path_wd)\n",
        " !git config --global user.email \"veexu@ctcultures.com\"\n",
        " !git config --global user.name \"Herais\"\n",
        " !git stash push --include-untracked\n",
        " #!git stash drop\n",
        " !git pull\n",
        "!pwd"
      ],
      "execution_count": 21,
      "outputs": [
        {
          "output_type": "stream",
          "text": [
            "Drive already mounted at /content/drive; to attempt to forcibly remount, call drive.mount(\"/content/drive\", force_remount=True).\n",
            "Saved working directory and index state WIP on master: 4979198 Update Record_Registration.py\n",
            "remote: Enumerating objects: 27, done.\u001b[K\n",
            "remote: Counting objects: 100% (27/27), done.\u001b[K\n",
            "remote: Compressing objects: 100% (6/6), done.\u001b[K\n",
            "remote: Total 16 (delta 11), reused 12 (delta 9), pack-reused 0\u001b[K\n",
            "Unpacking objects: 100% (16/16), done.\n",
            "From https://github.com/CT-Cultures/Content\n",
            "   4979198..38076b2  master     -> origin/master\n",
            "Updating 4979198..38076b2\n",
            "Fast-forward\n",
            " Open_FilmCN.ipynb                                  |   163 \u001b[32m+\u001b[m\u001b[31m-\u001b[m\n",
            " .../__pycache__/Record_Registration.cpython-38.pyc |   Bin \u001b[31m27957\u001b[m -> \u001b[32m27983\u001b[m bytes\n",
            " .../contents_of_registrations_20200619_1729.csv    | 26781 \u001b[31m-----------------\u001b[m\n",
            " .../contents_of_registrations_20201130_2220.csv    | 26781 \u001b[31m-----------------\u001b[m\n",
            " .../contents_of_registrations_20201215_1005.csv    | 27744 \u001b[31m-----------------\u001b[m\n",
            " .../links_of_registrations_20201215_1005.csv       | 27743 \u001b[31m-----------------\u001b[m\n",
            " .../links_of_registrations_20210522_1400.csv       | 27743 \u001b[31m-----------------\u001b[m\n",
            " .../links_of_registrations_20210522_1437.csv       |    63 \u001b[31m-\u001b[m\n",
            " .../links_of_registrations_20210522_1550.csv       | 29865 \u001b[31m-------------------\u001b[m\n",
            " .../links_of_registrations_20210522_2218.csv       | 29865 \u001b[31m-------------------\u001b[m\n",
            " .../records/contents_of_registrations_test.csv     |    65 \u001b[32m+\u001b[m\u001b[31m-\u001b[m\n",
            " .../contents_of_registrations_test.csv.xlsx        |   Bin \u001b[31m6186\u001b[m -> \u001b[32m0\u001b[m bytes\n",
            " sources/ChinaFilm/requirements/chromedriver        |   Bin \u001b[31m11569752\u001b[m -> \u001b[32m0\u001b[m bytes\n",
            " sources/ChinaFilm/tesst.py                         |    16 \u001b[32m+\u001b[m\u001b[31m-\u001b[m\n",
            " 14 files changed, 138 insertions(+), 196691 deletions(-)\n",
            " delete mode 100644 sources/ChinaFilm/records/backup/contents_of_registrations_20200619_1729.csv\n",
            " delete mode 100644 sources/ChinaFilm/records/backup/contents_of_registrations_20201130_2220.csv\n",
            " delete mode 100644 sources/ChinaFilm/records/backup/contents_of_registrations_20201215_1005.csv\n",
            " delete mode 100644 sources/ChinaFilm/records/backup/links_of_registrations_20201215_1005.csv\n",
            " delete mode 100644 sources/ChinaFilm/records/backup/links_of_registrations_20210522_1400.csv\n",
            " delete mode 100644 sources/ChinaFilm/records/backup/links_of_registrations_20210522_1437.csv\n",
            " delete mode 100644 sources/ChinaFilm/records/backup/links_of_registrations_20210522_1550.csv\n",
            " delete mode 100644 sources/ChinaFilm/records/backup/links_of_registrations_20210522_2218.csv\n",
            " delete mode 100644 sources/ChinaFilm/records/contents_of_registrations_test.csv.xlsx\n",
            " delete mode 100644 sources/ChinaFilm/requirements/chromedriver\n",
            "/content/drive/My Drive/Github/Content\n"
          ],
          "name": "stdout"
        }
      ]
    },
    {
      "cell_type": "code",
      "metadata": {
        "colab": {
          "base_uri": "https://localhost:8080/"
        },
        "id": "XxBvt53fga1f",
        "outputId": "5ea2f7cf-2220-4e8c-de8e-a2c5aec9dfec"
      },
      "source": [
        "os.chdir('sources/ChinaFilm')\n",
        "!pip install -r requirements.txt\n",
        "!apt-get update # to update ubuntu to correctly run apt install\n",
        "!apt install chromium-chromedriver\n",
        "!cp /usr/lib/chromium-browser/chromedriver /usr/bin\n",
        "import sys\n",
        "sys.path.insert(0,'/usr/lib/chromium-browser/chromedriver')\n",
        "\n",
        "os.chdir('sources/ChinaFilm')"
      ],
      "execution_count": 2,
      "outputs": [
        {
          "output_type": "stream",
          "text": [
            "Collecting selenium\n",
            "\u001b[?25l  Downloading https://files.pythonhosted.org/packages/80/d6/4294f0b4bce4de0abf13e17190289f9d0613b0a44e5dd6a7f5ca98459853/selenium-3.141.0-py2.py3-none-any.whl (904kB)\n",
            "\r\u001b[K     |▍                               | 10kB 15.8MB/s eta 0:00:01\r\u001b[K     |▊                               | 20kB 23.2MB/s eta 0:00:01\r\u001b[K     |█                               | 30kB 26.1MB/s eta 0:00:01\r\u001b[K     |█▌                              | 40kB 27.6MB/s eta 0:00:01\r\u001b[K     |█▉                              | 51kB 30.0MB/s eta 0:00:01\r\u001b[K     |██▏                             | 61kB 23.1MB/s eta 0:00:01\r\u001b[K     |██▌                             | 71kB 24.8MB/s eta 0:00:01\r\u001b[K     |███                             | 81kB 24.7MB/s eta 0:00:01\r\u001b[K     |███▎                            | 92kB 26.2MB/s eta 0:00:01\r\u001b[K     |███▋                            | 102kB 25.5MB/s eta 0:00:01\r\u001b[K     |████                            | 112kB 25.5MB/s eta 0:00:01\r\u001b[K     |████▍                           | 122kB 25.5MB/s eta 0:00:01\r\u001b[K     |████▊                           | 133kB 25.5MB/s eta 0:00:01\r\u001b[K     |█████                           | 143kB 25.5MB/s eta 0:00:01\r\u001b[K     |█████▍                          | 153kB 25.5MB/s eta 0:00:01\r\u001b[K     |█████▉                          | 163kB 25.5MB/s eta 0:00:01\r\u001b[K     |██████▏                         | 174kB 25.5MB/s eta 0:00:01\r\u001b[K     |██████▌                         | 184kB 25.5MB/s eta 0:00:01\r\u001b[K     |██████▉                         | 194kB 25.5MB/s eta 0:00:01\r\u001b[K     |███████▎                        | 204kB 25.5MB/s eta 0:00:01\r\u001b[K     |███████▋                        | 215kB 25.5MB/s eta 0:00:01\r\u001b[K     |████████                        | 225kB 25.5MB/s eta 0:00:01\r\u001b[K     |████████▎                       | 235kB 25.5MB/s eta 0:00:01\r\u001b[K     |████████▊                       | 245kB 25.5MB/s eta 0:00:01\r\u001b[K     |█████████                       | 256kB 25.5MB/s eta 0:00:01\r\u001b[K     |█████████▍                      | 266kB 25.5MB/s eta 0:00:01\r\u001b[K     |█████████▉                      | 276kB 25.5MB/s eta 0:00:01\r\u001b[K     |██████████▏                     | 286kB 25.5MB/s eta 0:00:01\r\u001b[K     |██████████▌                     | 296kB 25.5MB/s eta 0:00:01\r\u001b[K     |██████████▉                     | 307kB 25.5MB/s eta 0:00:01\r\u001b[K     |███████████▎                    | 317kB 25.5MB/s eta 0:00:01\r\u001b[K     |███████████▋                    | 327kB 25.5MB/s eta 0:00:01\r\u001b[K     |████████████                    | 337kB 25.5MB/s eta 0:00:01\r\u001b[K     |████████████▎                   | 348kB 25.5MB/s eta 0:00:01\r\u001b[K     |████████████▊                   | 358kB 25.5MB/s eta 0:00:01\r\u001b[K     |█████████████                   | 368kB 25.5MB/s eta 0:00:01\r\u001b[K     |█████████████▍                  | 378kB 25.5MB/s eta 0:00:01\r\u001b[K     |█████████████▊                  | 389kB 25.5MB/s eta 0:00:01\r\u001b[K     |██████████████▏                 | 399kB 25.5MB/s eta 0:00:01\r\u001b[K     |██████████████▌                 | 409kB 25.5MB/s eta 0:00:01\r\u001b[K     |██████████████▉                 | 419kB 25.5MB/s eta 0:00:01\r\u001b[K     |███████████████▏                | 430kB 25.5MB/s eta 0:00:01\r\u001b[K     |███████████████▋                | 440kB 25.5MB/s eta 0:00:01\r\u001b[K     |████████████████                | 450kB 25.5MB/s eta 0:00:01\r\u001b[K     |████████████████▎               | 460kB 25.5MB/s eta 0:00:01\r\u001b[K     |████████████████▋               | 471kB 25.5MB/s eta 0:00:01\r\u001b[K     |█████████████████               | 481kB 25.5MB/s eta 0:00:01\r\u001b[K     |█████████████████▍              | 491kB 25.5MB/s eta 0:00:01\r\u001b[K     |█████████████████▊              | 501kB 25.5MB/s eta 0:00:01\r\u001b[K     |██████████████████▏             | 512kB 25.5MB/s eta 0:00:01\r\u001b[K     |██████████████████▌             | 522kB 25.5MB/s eta 0:00:01\r\u001b[K     |██████████████████▉             | 532kB 25.5MB/s eta 0:00:01\r\u001b[K     |███████████████████▏            | 542kB 25.5MB/s eta 0:00:01\r\u001b[K     |███████████████████▋            | 552kB 25.5MB/s eta 0:00:01\r\u001b[K     |████████████████████            | 563kB 25.5MB/s eta 0:00:01\r\u001b[K     |████████████████████▎           | 573kB 25.5MB/s eta 0:00:01\r\u001b[K     |████████████████████▋           | 583kB 25.5MB/s eta 0:00:01\r\u001b[K     |█████████████████████           | 593kB 25.5MB/s eta 0:00:01\r\u001b[K     |█████████████████████▍          | 604kB 25.5MB/s eta 0:00:01\r\u001b[K     |█████████████████████▊          | 614kB 25.5MB/s eta 0:00:01\r\u001b[K     |██████████████████████          | 624kB 25.5MB/s eta 0:00:01\r\u001b[K     |██████████████████████▌         | 634kB 25.5MB/s eta 0:00:01\r\u001b[K     |██████████████████████▉         | 645kB 25.5MB/s eta 0:00:01\r\u001b[K     |███████████████████████▏        | 655kB 25.5MB/s eta 0:00:01\r\u001b[K     |███████████████████████▌        | 665kB 25.5MB/s eta 0:00:01\r\u001b[K     |████████████████████████        | 675kB 25.5MB/s eta 0:00:01\r\u001b[K     |████████████████████████▎       | 686kB 25.5MB/s eta 0:00:01\r\u001b[K     |████████████████████████▋       | 696kB 25.5MB/s eta 0:00:01\r\u001b[K     |█████████████████████████       | 706kB 25.5MB/s eta 0:00:01\r\u001b[K     |█████████████████████████▍      | 716kB 25.5MB/s eta 0:00:01\r\u001b[K     |█████████████████████████▊      | 727kB 25.5MB/s eta 0:00:01\r\u001b[K     |██████████████████████████      | 737kB 25.5MB/s eta 0:00:01\r\u001b[K     |██████████████████████████▍     | 747kB 25.5MB/s eta 0:00:01\r\u001b[K     |██████████████████████████▉     | 757kB 25.5MB/s eta 0:00:01\r\u001b[K     |███████████████████████████▏    | 768kB 25.5MB/s eta 0:00:01\r\u001b[K     |███████████████████████████▌    | 778kB 25.5MB/s eta 0:00:01\r\u001b[K     |████████████████████████████    | 788kB 25.5MB/s eta 0:00:01\r\u001b[K     |████████████████████████████▎   | 798kB 25.5MB/s eta 0:00:01\r\u001b[K     |████████████████████████████▋   | 808kB 25.5MB/s eta 0:00:01\r\u001b[K     |█████████████████████████████   | 819kB 25.5MB/s eta 0:00:01\r\u001b[K     |█████████████████████████████▍  | 829kB 25.5MB/s eta 0:00:01\r\u001b[K     |█████████████████████████████▊  | 839kB 25.5MB/s eta 0:00:01\r\u001b[K     |██████████████████████████████  | 849kB 25.5MB/s eta 0:00:01\r\u001b[K     |██████████████████████████████▍ | 860kB 25.5MB/s eta 0:00:01\r\u001b[K     |██████████████████████████████▉ | 870kB 25.5MB/s eta 0:00:01\r\u001b[K     |███████████████████████████████▏| 880kB 25.5MB/s eta 0:00:01\r\u001b[K     |███████████████████████████████▌| 890kB 25.5MB/s eta 0:00:01\r\u001b[K     |███████████████████████████████▉| 901kB 25.5MB/s eta 0:00:01\r\u001b[K     |████████████████████████████████| 911kB 25.5MB/s \n",
            "\u001b[?25hRequirement already satisfied: urllib3 in /usr/local/lib/python3.7/dist-packages (from selenium->-r requirements.txt (line 1)) (1.24.3)\n",
            "Installing collected packages: selenium\n",
            "Successfully installed selenium-3.141.0\n"
          ],
          "name": "stdout"
        }
      ]
    },
    {
      "cell_type": "code",
      "metadata": {
        "colab": {
          "base_uri": "https://localhost:8080/"
        },
        "id": "17kIyCl_2fxX",
        "outputId": "c7b1c6dc-b776-4881-f86e-3084bce54d81"
      },
      "source": [
        "!#Load Libraries\n",
        "import gc\n",
        "import pandas as pd\n",
        "from sources.ChinaFilm.Record_Registration import Registration\n",
        "from selenium import webdriver\n",
        "chrome_options = webdriver.ChromeOptions()\n",
        "chrome_options.add_argument('--headless')\n",
        "chrome_options.add_argument('--no-sandbox')\n",
        "chrome_options.add_argument('--disable-dev-shm-usage')\n",
        "\n",
        "# Initialize Registration Class\n",
        "driver = webdriver.Chrome('chromedriver',chrome_options=chrome_options)\n",
        "dy_reg = Registration(driver)"
      ],
      "execution_count": 22,
      "outputs": [
        {
          "output_type": "stream",
          "text": [
            "/usr/local/lib/python3.7/dist-packages/ipykernel_launcher.py:12: DeprecationWarning: use options instead of chrome_options\n",
            "  if sys.path[0] == '':\n"
          ],
          "name": "stderr"
        }
      ]
    },
    {
      "cell_type": "code",
      "metadata": {
        "id": "PZqcUsZBY9yU"
      },
      "source": [
        "# Load Data\n",
        "links_of_registrations = pd.read_csv('sources/ChinaFilm/records/links_of_registrations.csv', encoding='utf-8-sig')"
      ],
      "execution_count": 23,
      "outputs": []
    },
    {
      "cell_type": "code",
      "metadata": {
        "colab": {
          "base_uri": "https://localhost:8080/"
        },
        "id": "PLzxqIPs8Pnl",
        "outputId": "534de034-6baa-47fd-8b26-319d686e3262"
      },
      "source": [
        "!ls"
      ],
      "execution_count": 27,
      "outputs": [
        {
          "output_type": "stream",
          "text": [
            "dy_Release.py\t\t\t   __pycache__\n",
            "IO_Storage.py\t\t\t   Record_Registration.py\n",
            "MovieAnalyzer.py\t\t   records\n",
            "MovieCN_Interpreter.py\t\t   requirements\n",
            "MovieCN_Operate.py\t\t   requirements.txt\n",
            "MovieCN_RegtoRelease_interpret.py  sanity_check.py\n",
            "MovieCN_RegtoRelease_operate.py    tesst.py\n",
            "MovieCN_RegtoRelease.py\t\t   workspace.code-workspace\n",
            "MovieCN_Update.py\t\t   zgdypw_film.py\n"
          ],
          "name": "stdout"
        }
      ]
    },
    {
      "cell_type": "code",
      "metadata": {
        "id": "ZB9p4wmC7-o9"
      },
      "source": [
        "#os.chdir('sources/ChinaFilm')\n",
        "batch_size = 50\n",
        "i = 300\n",
        "fp = dy_reg.path_records + '/' + 'contents_of_registrations_test.csv'\n",
        "while i < len(links_of_registrations):\n",
        "    records = dy_reg.contents_of_registrations(links_of_registrations[i:i+batch_size])\n",
        "    records.to_csv(fp, mode='a', header=(not os.path.exists(fp)), encoding='utf-8-sig', index=False)\n",
        "    i += batch_size\n",
        "    print(i, '-')\n",
        "dy_reg.driver.close()"
      ],
      "execution_count": null,
      "outputs": []
    },
    {
      "cell_type": "code",
      "metadata": {
        "id": "QCMlqY6Q3NjX"
      },
      "source": [
        "# Wind Down\n",
        "driver.close()\n",
        "dyreg.driver.close()\n",
        "gc.collect()"
      ],
      "execution_count": 15,
      "outputs": []
    },
    {
      "cell_type": "code",
      "metadata": {
        "colab": {
          "base_uri": "https://localhost:8080/"
        },
        "id": "TF-5sAwEontZ",
        "outputId": "434be815-4e80-47bd-a114-8465409a6e75"
      },
      "source": [
        "# Commit and Push to Github\n",
        "os.chdir(path_wd)\n",
        "!git config --global user.email \"veexu@ctcultures.com\"\n",
        "!git config --global user.name \"Herais\"\n",
        "!git add --all\n",
        "!git commit\n",
        "!git push"
      ],
      "execution_count": null,
      "outputs": [
        {
          "output_type": "stream",
          "text": [
            "hint: Waiting for your editor to close the file... error: unable to start editor 'editor'\n",
            "Please supply the message using either -m or -F option.\n",
            "fatal: could not read Username for 'https://github.com': No such device or address\n"
          ],
          "name": "stdout"
        }
      ]
    }
  ]
}