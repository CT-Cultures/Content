{
 "cells": [
  {
   "cell_type": "code",
   "execution_count": 8,
   "id": "e23f4a00-38ee-45f0-98f9-ae3142646b83",
   "metadata": {},
   "outputs": [
    {
     "name": "stderr",
     "output_type": "stream",
     "text": [
      "Traceback (most recent call last):\n",
      "  File \"Update_Registration.py\", line 14, in <module>\n",
      "    tv_reg.update_records(how='quick', save_update=True)\n",
      "  File \"C:\\Users\\User\\Desktop\\Github\\Content\\sources\\NRTA\\Record_Registration.py\", line 473, in update_records\n",
      "    self.save_records(links_of_publications_latest,\n",
      "  File \"C:\\Users\\User\\Desktop\\Github\\Content\\sources\\NRTA\\Record_Registration.py\", line 93, in save_records\n",
      "    os.rename(path_file, path_file_bk)\n",
      "FileNotFoundError: [WinError 3] The system cannot find the path specified: 'records/links_of_publications_releases.json' -> 'records/backup/links_of_publications_releases_20211123_1900.json'\n"
     ]
    }
   ],
   "source": [
    "!python Update_Registration.py"
   ]
  },
  {
   "cell_type": "code",
   "execution_count": null,
   "id": "df568fd0-02d7-41e0-9ce5-528c9b2bd0d5",
   "metadata": {},
   "outputs": [],
   "source": []
  }
 ],
 "metadata": {
  "kernelspec": {
   "display_name": "Python 3 (ipykernel)",
   "language": "python",
   "name": "python3"
  },
  "language_info": {
   "codemirror_mode": {
    "name": "ipython",
    "version": 3
   },
   "file_extension": ".py",
   "mimetype": "text/x-python",
   "name": "python",
   "nbconvert_exporter": "python",
   "pygments_lexer": "ipython3",
   "version": "3.8.12"
  }
 },
 "nbformat": 4,
 "nbformat_minor": 5
}
