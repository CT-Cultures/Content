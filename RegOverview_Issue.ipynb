{
  "nbformat": 4,
  "nbformat_minor": 0,
  "metadata": {
    "colab": {
      "name": "RegOverview_Issue.ipynb",
      "provenance": [],
      "collapsed_sections": [],
      "toc_visible": true,
      "include_colab_link": true
    },
    "kernelspec": {
      "name": "python3",
      "display_name": "Python 3"
    },
    "language_info": {
      "name": "python"
    }
  },
  "cells": [
    {
      "cell_type": "markdown",
      "metadata": {
        "id": "view-in-github",
        "colab_type": "text"
      },
      "source": [
        "<a href=\"https://colab.research.google.com/github/CT-Cultures/Content/blob/master/RegOverview_Issue.ipynb\" target=\"_parent\"><img src=\"https://colab.research.google.com/assets/colab-badge.svg\" alt=\"Open In Colab\"/></a>"
      ]
    },
    {
      "cell_type": "markdown",
      "metadata": {
        "id": "VHow_GCiFusX"
      },
      "source": [
        "# [1] Setting up Environment and Install Requirements"
      ]
    },
    {
      "cell_type": "markdown",
      "metadata": {
        "id": "AE6bKOTbIRth"
      },
      "source": [
        "## Set Working Directory, Install Requirements"
      ]
    },
    {
      "cell_type": "code",
      "metadata": {
        "id": "gj26RhaWNvcD"
      },
      "source": [
        "import os\n",
        "import sys\n",
        "# Set Path\n",
        "path_wd = '/content/drive/MyDrive/Github/Content'\n",
        "os.chdir(path_wd)\n",
        "\n",
        "!pip install -r sources/ChinaFilm/requirements.txt\n",
        "!apt-get update # to update ubuntu to correctly run apt install\n",
        "!apt install chromium-chromedriver\n",
        "!cp /usr/lib/chromium-browser/chromedriver /usr/bin\n",
        "!pip install selenium\n",
        "sys.path.insert(0,'/usr/lib/chromium-browser/chromedriver')"
      ],
      "execution_count": null,
      "outputs": []
    },
    {
      "cell_type": "markdown",
      "metadata": {
        "id": "4pjd8rsVGK7F"
      },
      "source": [
        "## Load and Initialize the Movie Registration Class"
      ]
    },
    {
      "cell_type": "code",
      "metadata": {
        "colab": {
          "base_uri": "https://localhost:8080/"
        },
        "id": "nm5fGIGUXf-n",
        "outputId": "8006aaa9-93c6-4b74-873d-74ff4d8437a2"
      },
      "source": [
        "!#Load Libraries\n",
        "import gc\n",
        "import pandas as pd\n",
        "from selenium import webdriver\n",
        "from bs4 import BeautifulSoup\n",
        "import re\n",
        "from sources.ChinaFilm.Record_Registration import Registration # assume relative path at path_wd\n",
        "\n",
        "chrome_options = webdriver.ChromeOptions()\n",
        "chrome_options.add_argument('--headless')\n",
        "chrome_options.add_argument('--no-sandbox')\n",
        "chrome_options.add_argument('--disable-dev-shm-usage')\n",
        "\n",
        "# Initialize Registration Class\n",
        "driver = webdriver.Chrome('chromedriver',chrome_options=chrome_options)\n",
        "dy_reg = Registration(driver)"
      ],
      "execution_count": 19,
      "outputs": [
        {
          "output_type": "stream",
          "text": [
            "/usr/local/lib/python3.7/dist-packages/ipykernel_launcher.py:15: DeprecationWarning: use options instead of chrome_options\n",
            "  from ipykernel import kernelapp as app\n"
          ],
          "name": "stderr"
        }
      ]
    },
    {
      "cell_type": "markdown",
      "metadata": {
        "id": "4WfpZZE4IHP0"
      },
      "source": [
        "## Load Latest Registration Publication"
      ]
    },
    {
      "cell_type": "code",
      "metadata": {
        "colab": {
          "base_uri": "https://localhost:8080/"
        },
        "id": "WDQ-A217YEzY",
        "outputId": "1f6f869a-66fa-4822-cf1c-cd416e86a534"
      },
      "source": [
        "os.chdir('/content/drive/MyDrive/Github/Content/sources/ChinaFilm')\n",
        "df = dy_reg.Refined_Records(update_first =False)\n",
        "curr_issue_name = df.sort_values(['公示日期', '公示批次名称'], ascending=False)['公示批次名称'].iloc[0]\n",
        "df_curr =  df.loc[df.公示批次名称 == curr_issue_name,]\n",
        "df_curr.columns"
      ],
      "execution_count": 95,
      "outputs": [
        {
          "output_type": "execute_result",
          "data": {
            "text/plain": [
              "Index(['电影类别', '备案立项号', '片名', '备案单位', '编剧', '备案结果', '备案地', '梗概', '公示日期',\n",
              "       '公示批次名称', '备案详细页链接', '公示批次链接', '公示年', '公示批次起始', '类型', '备案申请年份',\n",
              "       '备案立项年度顺序号', '公示覆盖期间', '公示覆盖天数'],\n",
              "      dtype='object')"
            ]
          },
          "metadata": {
            "tags": []
          },
          "execution_count": 95
        }
      ]
    },
    {
      "cell_type": "markdown",
      "metadata": {
        "id": "ISlHpFPmIkje"
      },
      "source": [
        "# [2] Generating Article Contents"
      ]
    },
    {
      "cell_type": "code",
      "metadata": {
        "id": "ZDA5fTVIl_mW"
      },
      "source": [
        "df_type = df_curr.groupby('电影类别')['电影类别'].count().sort_values(ascending=False).rename('数量').to_frame().reset_index()"
      ],
      "execution_count": 66,
      "outputs": []
    },
    {
      "cell_type": "markdown",
      "metadata": {
        "id": "EmiDkwp8lb7n"
      },
      "source": [
        "##2021年4月28日,3月整月的备案公示新鲜出炉！这一批次中，最遥远的项目是《幕后英雄》,备案号为影剧备字〔2021〕第1360号,最近期的项目是《熊猫传奇——黑洞之吻》,备案号为影特备字〔2021〕第006号。本次完成备案的共计故事影片229部、科教影片8部、纪录影片6部、动画影片6部以及特种影片1部。\n"
      ]
    },
    {
      "cell_type": "code",
      "metadata": {
        "colab": {
          "base_uri": "https://localhost:8080/"
        },
        "id": "9Z6X558blZE_",
        "outputId": "9df31253-865b-4a0a-e002-49712bf0d003"
      },
      "source": [
        "# Obtain Variables\n",
        "df_curr.loc[:,'公示日期'] = df_curr.loc[:,'公示日期'].astype('datetime64')\n",
        "pub_year = df_curr.loc[0,'公示日期'].year\n",
        "pub_month = df_curr.loc[0,'公示日期'].month\n",
        "pub_day = df_curr.loc[0,'公示日期'].day\n",
        "df_curr_sorted = df_curr.sort_values(['备案申请年份', '备案立项年度顺序号'])\n",
        "df_type = df_curr.groupby('电影类别')['电影类别'].count().sort_values(ascending=False).rename('数量').to_frame().reset_index()\n",
        "\n",
        "# Write Content\n",
        "T1 = '{year}年{month}月{day}日,'.format(year=pub_year, month=pub_month, day=pub_day)\n",
        "T1 += '{month}月{part_of_month}的备案公示新鲜出炉！'.format(month=df_curr.loc[0,'公示批次起始'][1], part_of_month=df_curr.loc[0,'公示批次起始'][2])\n",
        "T1 += '这一批次中，最遥远的项目是《{}》,'.format(df_curr_sorted.loc[0, '片名']) \n",
        "T1 += '备案号为{},'.format(df_curr_sorted.loc[0, '备案立项号'])\n",
        "T1 += '最近期的项目是《{}》,'.format(df_curr_sorted.loc[df_curr.shape[0]-1, '片名'])\n",
        "T1 += '备案号为{}。'.format(df_curr_sorted.loc[df_curr.shape[0]-1, '备案立项号'])\n",
        "T1 += '本次完成备案的共计'\n",
        "for i, row in df_type.iterrows():\n",
        "  if i == df_type.shape[0]-1:\n",
        "    T1 = T1.rstrip('、')\n",
        "    T1 += '以及{type}{n}部。'.format(type=row['电影类别'], n=row['数量'])\n",
        "  else:\n",
        "    T1 += '{type}{n}部、'.format(type=row['电影类别'], n=row['数量'])\n",
        "print(T1)"
      ],
      "execution_count": 70,
      "outputs": [
        {
          "output_type": "stream",
          "text": [
            "2021年4月28日,3月整月的备案公示新鲜出炉！这一批次中，最遥远的项目是《幕后英雄》,备案号为影剧备字〔2021〕第1360号,最近期的项目是《熊猫传奇——黑洞之吻》,备案号为影特备字〔2021〕第006号。本次完成备案的共计故事影片229部、科教影片8部、纪录影片6部、动画影片6部以及特种影片1部。\n"
          ],
          "name": "stdout"
        },
        {
          "output_type": "stream",
          "text": [
            "/usr/local/lib/python3.7/dist-packages/pandas/core/indexing.py:1743: SettingWithCopyWarning: \n",
            "A value is trying to be set on a copy of a slice from a DataFrame.\n",
            "Try using .loc[row_indexer,col_indexer] = value instead\n",
            "\n",
            "See the caveats in the documentation: https://pandas.pydata.org/pandas-docs/stable/user_guide/indexing.html#returning-a-view-versus-a-copy\n",
            "  isetter(ilocs[0], value)\n"
          ],
          "name": "stderr"
        }
      ]
    },
    {
      "cell_type": "markdown",
      "metadata": {
        "id": "Ynzk-nDkRAzw"
      },
      "source": [
        "##本批次中，获得上市影视公司参投的项目预计有10部,占比4.0%。AI福彩慧眼识别出的重点关注项目有：\n",
        "《发明一个夏天》,编剧：高亦可\n",
        "备案单位：中国电影股份有限公司\n",
        "胡舟回到年少时度过夏天的小镇，回想起曾经的玩伴唐露，以及小镇上神秘的河流。他决定追溯过往，解开困扰自己多年的梦境。"
      ]
    },
    {
      "cell_type": "code",
      "metadata": {
        "colab": {
          "base_uri": "https://localhost:8080/"
        },
        "id": "BkDsQlGRikBL",
        "outputId": "8657b15e-b567-47b1-aa71-3c7d594d95a8"
      },
      "source": [
        "# 本批次中与上市影视公司关联的项目有\n",
        "info_public_film_co = pd.read_csv('/content/drive/MyDrive/Github/Content/tools/articles/reference/info_public_film_co.csv', index_col=0, encoding='utf-8-sig')\n",
        "ls = info_public_film_co['公司简称'].apply(eval).sum()\n",
        "pat_public = '|'.join(ls)\n",
        "pat_public += '|阿里|腾讯|爱奇艺|英皇|寰亚|银都|美亚|大盛|儒意|灿星|横店'\n",
        "df_focus = df_curr.loc[df_curr['备案单位'].str.contains(pat_public), ['电影类别', '片名', '备案单位', '编剧', '梗概', '备案地']]\n",
        "#ids = [39,120,150, 170,230,231]\n",
        "df_focus_narrowed = df_curr.loc[ids, ['电影类别', '片名', '备案单位', '编剧', '梗概', '备案地']]\n",
        "\n",
        "# \n",
        "T2 = '本批次中，获得上市影视公司参投的项目预计有{}部,'.format(df_focus.shape[0])\n",
        "T2 += '占比{}%。'.format(df_focus.shape[0]/df_curr.shape[0]*100)\n",
        "T2 += 'AI福彩慧眼识别出的重点关注项目有:\\n'\n",
        "for _, row in df_focus_narrowed.iterrows():\n",
        "  T2 += '\\n《{name}》\\n编剧：{writer}'.format(name=row['片名'],writer=row['编剧'])\n",
        "  T2 += '\\n备案单位：{co}'.format(co=row['备案单位'])\n",
        "  T2 += '\\n{synopsis}\\n'.format(synopsis=row['梗概'])\n",
        "\n",
        "print(T2)\n"
      ],
      "execution_count": 151,
      "outputs": [
        {
          "output_type": "stream",
          "text": [
            "本批次中，获得上市影视公司参投的项目预计有10部,占比4.0%。AI福彩慧眼识别出的重点关注项目有:\n",
            "\n",
            "《发明一个夏天》\n",
            "编剧：高亦可\n",
            "备案单位：中国电影股份有限公司\n",
            "胡舟回到年少时度过夏天的小镇，回想起曾经的玩伴唐露，以及小镇上神秘的河流。他决定追溯过往，解开困扰自己多年的梦境。\n",
            "\n",
            "《计划外的姐弟恋》\n",
            "编剧：吴冰、齐中旸\n",
            "备案单位：青春光线(扬州)影业有限公司\n",
            "32岁投行精英卓娅，秉承“计算一切”的理念生活，却在破除升职壁垒的路上，遇到实习生弟弟彦兮。面对彦兮恣意洒脱、浪漫痴情的追求，卓娅体会爱情，找到自我，突破成见，放弃原本的无爱婚姻计划，勇敢奔爱。\n",
            "\n",
            "《日常警事》\n",
            "编剧：李忱\n",
            "备案单位：陕西广电影视文化产业发展有限公司、杭州东桥文化传媒有限公司、北京奥创世纪网络影视发行有限公司、北京爱奇艺科技有限公司\n",
            "取材于警察英模李贝职业生涯中的一段时期。李贝自信果敢，一直期待投身一线，却阴差阳错成为新成立的巡处警大队的大队长。日复一日的基层工作使之与警员们建立起信任与友情，也让她重新正视自己的“英雄梦'。\n",
            "\n",
            "《无价之宝》\n",
            "编剧：韩家女\n",
            "备案单位：上海阿里巴巴影业有限公司\n",
            "因为一笔债务纠纷，六岁的许芊芊被押在石振邦手上作为“担保”，然而芊芊的父母再未将她接走，石振邦独自一人担起了养大许芊芊的责任。为了合法收养芊芊，石振邦从一个落魄中年努力成为了法律和道德上的合格父亲。\n",
            "\n",
            "《二郎神》\n",
            "编剧：邢嘉芸\n",
            "备案单位：北京光线影业有限公司\n",
            "为寻找讨伐猿魔时丢失的天目，杨戬来到凡间，意外遇见凡人何小天并收其为徒。为了找回天目两人在凡间经历了一系列让人啼笑皆非的故事。当杨戬再次面对猿魔的时候，他发现自己的劫数远没有丢失天目这么简单.\n",
            "\n",
            "《土行孙之破土重生》\n",
            "编剧：刘洋\n",
            "备案单位：北京光线影业有限公司\n",
            "生来不会法术的仙门弟子土行孙机缘之下学会了土行术，肩负起了看守封印的责任。漶本是被混元金斗镇压在地底，申公豹和张奎密谋盗走了混元金斗后，它便逃了出来。危机关头，土行孙决定牺牲自己，将漶再次封印了起来。\n",
            "\n"
          ],
          "name": "stdout"
        }
      ]
    },
    {
      "cell_type": "markdown",
      "metadata": {
        "id": "DW8Bo4W7Odib"
      },
      "source": [
        "##本批次中，共有16家公司完成了两部或以上故事片或合拍片的备案，创造力满满。\n",
        "中央宣传部电影卫星频道节目制作中心：《虫口夺粮》,《突破口》,《您别不爱听》,《地火》"
      ]
    },
    {
      "cell_type": "code",
      "metadata": {
        "colab": {
          "base_uri": "https://localhost:8080/"
        },
        "id": "7cBVK9mB5Mn1",
        "outputId": "c4003fec-9698-4b65-c96c-3b42e39d17da"
      },
      "source": [
        "df_2plus_co = df_curr[df_curr['电影类别'].str.contains(pat_film)].groupby(['备案单位'])['备案单位'].count().sort_values(ascending=False).rename('数量').to_frame().reset_index()\n",
        "pat_2plus_co = '|'.join(df_2plus_co.loc[df_2plus_co['数量']>1, '备案单位'].to_list())\n",
        "df_2plus = df_curr[df_curr['电影类别'].str.contains(pat_film) & df_curr['备案单位'].str.contains(pat_2plus_co)]\n",
        "df_2plus = df_2plus.loc[:,['备案单位','片名', '编剧', '梗概']]\n",
        "df_count = df_2plus.groupby('备案单位')['备案单位'].count().rename('备案数量').reset_index()\n",
        "df_2plus = df_2plus.merge(df_count, on='备案单位').sort_values('备案数量', ascending=False)\n",
        "df_2plus['片单'] = df_2plus.groupby('备案单位')['片名'].transform(lambda x: ','.join(\"《\" + x +\"》\"))\n",
        "df_2plus = df_2plus[['备案单位','片单']].drop_duplicates()\n",
        "\n",
        "##\n",
        "T3 = '本批次中，共有{n}家公司完成了两部或以上故事片或合拍片的备案，创造力满满。'.format(n=df_2plus.shape[0])\n",
        "for _, row in df_2plus.iterrows():\n",
        "  T3 += '\\n{co}：'.format(co=row['备案单位'])\n",
        "  T3 += '{}'.format(row['片单'])\n",
        "\n",
        "print(T3)"
      ],
      "execution_count": 174,
      "outputs": [
        {
          "output_type": "stream",
          "text": [
            "本批次中，共有16家公司完成了两部或以上故事片或合拍片的备案，创造力满满。\n",
            "中央宣传部电影卫星频道节目制作中心：《虫口夺粮》,《突破口》,《您别不爱听》,《地火》\n",
            "苏州宸玮文化发展有限公司：《过期不候》,《蓝颜无知己》,《东西爱情故事》\n",
            "重庆瑜影画文化传播有限责任公司、安徽艺客影视文化传媒有限公司：《铁甲少年》,《我是美术生之星空筑梦》,《星之守望》\n",
            "南派传奇影视有限公司：《天才厨神》,《寻找失散的恋人》\n",
            "世纪领略影业（北京）有限公司、星灿宇宸影业（青岛）有限公司：《无可替代》,《求求你，站出来》\n",
            "甘肃田野之光影视文化发展有限公司：《再见故乡桥》,《我不能说》\n",
            "风云（深圳）传媒有限公司：《岌岌之爱》,《海棠莉舍的婚房》\n",
            "四川合力行文化传媒有限公司：《敬启者》,《狂萌飙车》\n",
            "南充梅尔西文化传媒有限责任公司、北京梅尔西文化传媒有限公司：《因你而动》,《村民评测》\n",
            "陕西嘉轩天赋影视文化有限公司：《南沧·龙珠传》,《托起明天的太阳》\n",
            "山东橙果影视文化发展有限公司：《寻狗奇兵》,《绝世抠神》\n",
            "广州新片场影视传媒有限公司：《乌龙院之七鲜鱼丸》,《河兽》\n",
            "北京星光星成文化传媒有限公司：《我的高中三年》,《记忆中的那片海》\n",
            "长影集团有限责任公司：《姐姐》,《啤酒》\n",
            "双龙飞木（佛山）影业有限公司：《眼泪日记》,《“一个人”的球队》\n",
            "牛我影业（深圳）有限公司：《积木游戏》,《安妮的旅行》\n"
          ],
          "name": "stdout"
        }
      ]
    },
    {
      "cell_type": "code",
      "metadata": {
        "id": "9IY6en66JOML"
      },
      "source": [
        "# Load Model\n",
        "model weights\n",
        "content\n",
        "predictions"
      ],
      "execution_count": null,
      "outputs": []
    },
    {
      "cell_type": "code",
      "metadata": {
        "id": "MgVDrUV9W9ow"
      },
      "source": [
        ""
      ],
      "execution_count": null,
      "outputs": []
    }
  ]
}